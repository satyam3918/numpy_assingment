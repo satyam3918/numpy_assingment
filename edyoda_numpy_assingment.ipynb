{
  "nbformat": 4,
  "nbformat_minor": 0,
  "metadata": {
    "colab": {
      "name": "edyoda_numpy_assingment.ipynb",
      "provenance": [],
      "collapsed_sections": []
    },
    "kernelspec": {
      "name": "python3",
      "display_name": "Python 3"
    }
  },
  "cells": [
    {
      "cell_type": "code",
      "metadata": {
        "id": "U9VwDcFfyPJG"
      },
      "source": [
        "import numpy as np"
      ],
      "execution_count": 1,
      "outputs": []
    },
    {
      "cell_type": "code",
      "metadata": {
        "id": "nVnyyCKcylPM"
      },
      "source": [
        "# question no 3\n",
        "a = np.array([1,2,3,4])\n",
        "b = np.array([5,6,7,8])"
      ],
      "execution_count": 3,
      "outputs": []
    },
    {
      "cell_type": "code",
      "metadata": {
        "id": "_DI45F32ysn5",
        "outputId": "229b32b8-79f9-4c5f-fba5-135ec0d03a47",
        "colab": {
          "base_uri": "https://localhost:8080/"
        }
      },
      "source": [
        "result = np.vstack((a,b))\n",
        "print(result)"
      ],
      "execution_count": 5,
      "outputs": [
        {
          "output_type": "stream",
          "text": [
            "[[1 2 3 4]\n",
            " [5 6 7 8]]\n"
          ],
          "name": "stdout"
        }
      ]
    },
    {
      "cell_type": "code",
      "metadata": {
        "id": "bW3bjmsNz-7K",
        "outputId": "bf432a4d-f401-4c92-be53-1dbcc94d46d3",
        "colab": {
          "base_uri": "https://localhost:8080/"
        }
      },
      "source": [
        "# question number 4\n",
        "arr1 = np.arange(1, 11)\n",
        "print(arr1)"
      ],
      "execution_count": 6,
      "outputs": [
        {
          "output_type": "stream",
          "text": [
            "[ 1  2  3  4  5  6  7  8  9 10]\n"
          ],
          "name": "stdout"
        }
      ]
    },
    {
      "cell_type": "code",
      "metadata": {
        "id": "ybfUbi8Z0nCr",
        "outputId": "d4fc6d84-7861-41e0-c681-44c747481ff9",
        "colab": {
          "base_uri": "https://localhost:8080/"
        }
      },
      "source": [
        "rev = arr1[::-1]\n",
        "print(rev)"
      ],
      "execution_count": 7,
      "outputs": [
        {
          "output_type": "stream",
          "text": [
            "[10  9  8  7  6  5  4  3  2  1]\n"
          ],
          "name": "stdout"
        }
      ]
    },
    {
      "cell_type": "code",
      "metadata": {
        "id": "62jq7WF205I2",
        "outputId": "bae84b14-3936-4abc-a024-9a94540ceb0d",
        "colab": {
          "base_uri": "https://localhost:8080/"
        }
      },
      "source": [
        "# question number 5\n",
        "arr2 = np.arange(0, 9).reshape(3,3)\n",
        "print(arr2)"
      ],
      "execution_count": 10,
      "outputs": [
        {
          "output_type": "stream",
          "text": [
            "[[0 1 2]\n",
            " [3 4 5]\n",
            " [6 7 8]]\n"
          ],
          "name": "stdout"
        }
      ]
    },
    {
      "cell_type": "code",
      "metadata": {
        "id": "x2ogF6G62lwb",
        "outputId": "78ae6bc8-7ff2-47e1-8928-558a8eabc032",
        "colab": {
          "base_uri": "https://localhost:8080/"
        }
      },
      "source": [
        "# question number 6\n",
        "arr3 = np.array([1,2,0,0,4,0])\n",
        "np.nonzero(arr3)"
      ],
      "execution_count": 11,
      "outputs": [
        {
          "output_type": "execute_result",
          "data": {
            "text/plain": [
              "(array([0, 1, 4]),)"
            ]
          },
          "metadata": {
            "tags": []
          },
          "execution_count": 11
        }
      ]
    },
    {
      "cell_type": "code",
      "metadata": {
        "id": "2bgzYhmr3xJS"
      },
      "source": [
        "# question number 7\n",
        "arr4 = np.random.random((10,10))"
      ],
      "execution_count": 4,
      "outputs": []
    },
    {
      "cell_type": "code",
      "metadata": {
        "id": "583WuUKA4VB5",
        "outputId": "90174b64-ee36-4fad-9eba-1f38e97c27fc",
        "colab": {
          "base_uri": "https://localhost:8080/"
        }
      },
      "source": [
        "arr4"
      ],
      "execution_count": 5,
      "outputs": [
        {
          "output_type": "execute_result",
          "data": {
            "text/plain": [
              "array([[0.59707181, 0.47553217, 0.36697706, 0.11169177, 0.43831035,\n",
              "        0.86259573, 0.10473435, 0.40749175, 0.81781926, 0.84429109],\n",
              "       [0.91091446, 0.96278365, 0.89867266, 0.40192902, 0.50879731,\n",
              "        0.15682937, 0.15242928, 0.18628068, 0.83948347, 0.14664858],\n",
              "       [0.51495876, 0.50660119, 0.85305864, 0.54936527, 0.38138963,\n",
              "        0.24740265, 0.44495453, 0.0600277 , 0.32684481, 0.98946754],\n",
              "       [0.24961187, 0.49702572, 0.08453791, 0.2729566 , 0.97011415,\n",
              "        0.81333656, 0.44348088, 0.52259186, 0.47888516, 0.40821581],\n",
              "       [0.056681  , 0.70658532, 0.40460706, 0.92483058, 0.31676632,\n",
              "        0.32532148, 0.79720443, 0.62901715, 0.45490009, 0.98184869],\n",
              "       [0.37705214, 0.30173822, 0.55991739, 0.14673385, 0.34575759,\n",
              "        0.04749801, 0.72555755, 0.33644149, 0.90174136, 0.73298206],\n",
              "       [0.88928128, 0.52977227, 0.09028564, 0.08039449, 0.37430951,\n",
              "        0.2359574 , 0.64357348, 0.16855236, 0.62159399, 0.43765942],\n",
              "       [0.57719212, 0.04689095, 0.92604622, 0.79398783, 0.42315582,\n",
              "        0.46556117, 0.59082263, 0.77788386, 0.55055874, 0.9845597 ],\n",
              "       [0.06554876, 0.26521939, 0.64441744, 0.8731732 , 0.18150678,\n",
              "        0.00705666, 0.01091281, 0.1888622 , 0.54206552, 0.71987598],\n",
              "       [0.15543769, 0.09098094, 0.05177368, 0.92884164, 0.562183  ,\n",
              "        0.33934667, 0.76613116, 0.015766  , 0.09548834, 0.29057508]])"
            ]
          },
          "metadata": {
            "tags": []
          },
          "execution_count": 5
        }
      ]
    },
    {
      "cell_type": "code",
      "metadata": {
        "id": "UnX3z6LD4WVh"
      },
      "source": [
        " min_value = arr4.min()\n",
        " max_value = arr4.max()"
      ],
      "execution_count": 6,
      "outputs": []
    },
    {
      "cell_type": "code",
      "metadata": {
        "id": "TDybjESbEcHq",
        "outputId": "a09fd417-a825-40a0-cd61-e66a4480a82a",
        "colab": {
          "base_uri": "https://localhost:8080/"
        }
      },
      "source": [
        "print(min_value,max_value)"
      ],
      "execution_count": 7,
      "outputs": [
        {
          "output_type": "stream",
          "text": [
            "0.007056663855626866 0.9894675421204252\n"
          ],
          "name": "stdout"
        }
      ]
    },
    {
      "cell_type": "code",
      "metadata": {
        "id": "Qu0Xy6U6Ewn6"
      },
      "source": [
        "# question number 8\n",
        "arr5 = np.arange(1,31)"
      ],
      "execution_count": 8,
      "outputs": []
    },
    {
      "cell_type": "code",
      "metadata": {
        "id": "__knmquVFJS_",
        "outputId": "f4a1b383-fe63-402d-fe6e-853aa1d15357",
        "colab": {
          "base_uri": "https://localhost:8080/"
        }
      },
      "source": [
        "arr5"
      ],
      "execution_count": 9,
      "outputs": [
        {
          "output_type": "execute_result",
          "data": {
            "text/plain": [
              "array([ 1,  2,  3,  4,  5,  6,  7,  8,  9, 10, 11, 12, 13, 14, 15, 16, 17,\n",
              "       18, 19, 20, 21, 22, 23, 24, 25, 26, 27, 28, 29, 30])"
            ]
          },
          "metadata": {
            "tags": []
          },
          "execution_count": 9
        }
      ]
    },
    {
      "cell_type": "code",
      "metadata": {
        "id": "UxBNa2n1FKYb",
        "outputId": "d24b1d6b-9ec4-4e29-d78c-247f09ff051f",
        "colab": {
          "base_uri": "https://localhost:8080/"
        }
      },
      "source": [
        "arr5.mean()"
      ],
      "execution_count": 10,
      "outputs": [
        {
          "output_type": "execute_result",
          "data": {
            "text/plain": [
              "15.5"
            ]
          },
          "metadata": {
            "tags": []
          },
          "execution_count": 10
        }
      ]
    },
    {
      "cell_type": "code",
      "metadata": {
        "id": "6K7gArmVFfnp",
        "outputId": "1464cb82-da7e-465a-9da5-9a2431f1658e",
        "colab": {
          "base_uri": "https://localhost:8080/"
        }
      },
      "source": [
        "# question number 9\n",
        "\n",
        "oneborder = np.ones((10,10))\n",
        "oneborder[1:-1, 1:-1] = 0\n",
        "print(oneborder)"
      ],
      "execution_count": 11,
      "outputs": [
        {
          "output_type": "stream",
          "text": [
            "[[1. 1. 1. 1. 1. 1. 1. 1. 1. 1.]\n",
            " [1. 0. 0. 0. 0. 0. 0. 0. 0. 1.]\n",
            " [1. 0. 0. 0. 0. 0. 0. 0. 0. 1.]\n",
            " [1. 0. 0. 0. 0. 0. 0. 0. 0. 1.]\n",
            " [1. 0. 0. 0. 0. 0. 0. 0. 0. 1.]\n",
            " [1. 0. 0. 0. 0. 0. 0. 0. 0. 1.]\n",
            " [1. 0. 0. 0. 0. 0. 0. 0. 0. 1.]\n",
            " [1. 0. 0. 0. 0. 0. 0. 0. 0. 1.]\n",
            " [1. 0. 0. 0. 0. 0. 0. 0. 0. 1.]\n",
            " [1. 1. 1. 1. 1. 1. 1. 1. 1. 1.]]\n"
          ],
          "name": "stdout"
        }
      ]
    },
    {
      "cell_type": "code",
      "metadata": {
        "id": "CCEc2yU2GFjO",
        "outputId": "b35f18ed-0b85-4dab-9ffd-867d92abf35f",
        "colab": {
          "base_uri": "https://localhost:8080/"
        }
      },
      "source": [
        "# question number 10\n",
        "zero_border = np.zeros((10,10))\n",
        "zero_border[1:-1, 1:-1] = 1\n",
        "print(zero_border)"
      ],
      "execution_count": 12,
      "outputs": [
        {
          "output_type": "stream",
          "text": [
            "[[0. 0. 0. 0. 0. 0. 0. 0. 0. 0.]\n",
            " [0. 1. 1. 1. 1. 1. 1. 1. 1. 0.]\n",
            " [0. 1. 1. 1. 1. 1. 1. 1. 1. 0.]\n",
            " [0. 1. 1. 1. 1. 1. 1. 1. 1. 0.]\n",
            " [0. 1. 1. 1. 1. 1. 1. 1. 1. 0.]\n",
            " [0. 1. 1. 1. 1. 1. 1. 1. 1. 0.]\n",
            " [0. 1. 1. 1. 1. 1. 1. 1. 1. 0.]\n",
            " [0. 1. 1. 1. 1. 1. 1. 1. 1. 0.]\n",
            " [0. 1. 1. 1. 1. 1. 1. 1. 1. 0.]\n",
            " [0. 0. 0. 0. 0. 0. 0. 0. 0. 0.]]\n"
          ],
          "name": "stdout"
        }
      ]
    },
    {
      "cell_type": "code",
      "metadata": {
        "id": "AyLS9CLgGxNI",
        "outputId": "64b055a5-e3f2-40b5-b9a6-f374be915f86",
        "colab": {
          "base_uri": "https://localhost:8080/"
        }
      },
      "source": [
        "# question number 11\n",
        "arr6 = np.diag(1+np.arange(4), k = -1)\n",
        "print (arr6)"
      ],
      "execution_count": 13,
      "outputs": [
        {
          "output_type": "stream",
          "text": [
            "[[0 0 0 0 0]\n",
            " [1 0 0 0 0]\n",
            " [0 2 0 0 0]\n",
            " [0 0 3 0 0]\n",
            " [0 0 0 4 0]]\n"
          ],
          "name": "stdout"
        }
      ]
    },
    {
      "cell_type": "code",
      "metadata": {
        "id": "42GwFlD9LB5m",
        "outputId": "18e93af1-8ad4-4c1c-ade6-bcddd013b87f",
        "colab": {
          "base_uri": "https://localhost:8080/"
        }
      },
      "source": [
        "# question number 12\n",
        "\n",
        "arr_7= np.random.random((5,5))\n",
        "print(arr_7)\n",
        "arr_max, arr_min = arr_7.max(), arr_7.min()\n",
        "normalized = (arr_7 - arr_min)/(arr_max - arr_min)\n",
        "print(\"After normalization:\")\n",
        "print(normalized)"
      ],
      "execution_count": 2,
      "outputs": [
        {
          "output_type": "stream",
          "text": [
            "[[0.68828292 0.62155027 0.93891044 0.54521117 0.01745667]\n",
            " [0.82206192 0.69363873 0.44034198 0.33315948 0.89825425]\n",
            " [0.36226193 0.51613146 0.08694463 0.22545938 0.44608514]\n",
            " [0.90047795 0.45155612 0.76747966 0.14068233 0.16310387]\n",
            " [0.23332345 0.74067831 0.62944084 0.0753016  0.96457482]]\n",
            "After normalization:\n",
            "[[0.70828148 0.63782286 0.97290265 0.5572214  0.        ]\n",
            " [0.84952997 0.71393633 0.44649689 0.33332991 0.92997645]\n",
            " [0.36405729 0.52651804 0.07336779 0.21961643 0.45256072]\n",
            " [0.93232431 0.45833717 0.79190013 0.1301059  0.15377934]\n",
            " [0.22791959 0.76360234 0.64615398 0.06107467 1.        ]]\n"
          ],
          "name": "stdout"
        }
      ]
    },
    {
      "cell_type": "code",
      "metadata": {
        "id": "rxHuSjPiLsMY",
        "outputId": "598d3046-077e-47b1-d6eb-26aaaef210df",
        "colab": {
          "base_uri": "https://localhost:8080/"
        }
      },
      "source": [
        "# question number 13\n",
        "array9 = np.array([0, 10, 20, 40, 60])\n",
        "array10 = [10, 30, 40]\n",
        "\n",
        "print(\"Common values \")\n",
        "print(np.intersect1d(array9, array10))"
      ],
      "execution_count": 3,
      "outputs": [
        {
          "output_type": "stream",
          "text": [
            "Common values \n",
            "[10 40]\n"
          ],
          "name": "stdout"
        }
      ]
    },
    {
      "cell_type": "code",
      "metadata": {
        "id": "HKJjAUX6MPtp",
        "outputId": "f29d19e1-b81f-43e6-876c-42d5af0787fe",
        "colab": {
          "base_uri": "https://localhost:8080/"
        }
      },
      "source": [
        "# question number 14\n",
        "def generate(): \n",
        "    for x in range(10):\n",
        "        yield x\n",
        "res_ = np.fromiter(generate(), dtype=float, count=-1)\n",
        "print (res_)"
      ],
      "execution_count": 4,
      "outputs": [
        {
          "output_type": "stream",
          "text": [
            "[0. 1. 2. 3. 4. 5. 6. 7. 8. 9.]\n"
          ],
          "name": "stdout"
        }
      ]
    },
    {
      "cell_type": "code",
      "metadata": {
        "id": "B0zDRfnJNSaY",
        "outputId": "cca707c7-6024-4461-98b5-f48e90d6d5c3",
        "colab": {
          "base_uri": "https://localhost:8080/"
        }
      },
      "source": [
        "# question number 15\n",
        "\n",
        "arr11 = np.random.rand(3, 5)\n",
        "\n",
        "mean_row = arr11 - arr11.mean(axis=1, keepdims=True)\n",
        "mean_row"
      ],
      "execution_count": 7,
      "outputs": [
        {
          "output_type": "execute_result",
          "data": {
            "text/plain": [
              "array([[-0.16167764, -0.26757062,  0.13628457,  0.28636495,  0.00659873],\n",
              "       [-0.06887934,  0.13970871, -0.15673647,  0.02151102,  0.06439608],\n",
              "       [ 0.44458594, -0.33519241, -0.53595434, -0.03033337,  0.45689418]])"
            ]
          },
          "metadata": {
            "tags": []
          },
          "execution_count": 7
        }
      ]
    },
    {
      "cell_type": "code",
      "metadata": {
        "id": "X4fSvZPtOHzo"
      },
      "source": [
        ""
      ],
      "execution_count": null,
      "outputs": []
    }
  ]
}